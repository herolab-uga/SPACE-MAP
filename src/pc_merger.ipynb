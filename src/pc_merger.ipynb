{
 "cells": [
  {
   "cell_type": "code",
   "execution_count": 2,
   "metadata": {},
   "outputs": [],
   "source": [
    "import open3d as o3d\n",
    "\n",
    "def read_and_visualize(file_name):\n",
    "    # Read the point cloud file\n",
    "    pcd = o3d.io.read_point_cloud(file_name)\n",
    "    \n",
    "    # Visualize the point cloud\n",
    "    o3d.visualization.draw_geometries([pcd], window_name=f\"Visualize {file_name}\")\n",
    "    \n",
    "    return pcd\n",
    "\n",
    "def main():\n",
    "    # File names of the point clouds\n",
    "    files = [\"h_0_1.ply\", \"h_1_1.ply\", \"h_2_1.ply\"]\n",
    "\n",
    "    # List to hold the point clouds\n",
    "    point_clouds = []\n",
    "\n",
    "    # Read and visualize each point cloud\n",
    "    for file_name in files:\n",
    "        pcd = read_and_visualize(file_name)\n",
    "        point_clouds.append(pcd)\n",
    "\n",
    "    # Merge the point clouds\n",
    "    merged_pcd = point_clouds[0] + point_clouds[1] + point_clouds[2]\n",
    "    o3d.io.write_point_cloud(\"h_merged_0.pcd\", merged_pcd)\n",
    "    # Visualize the merged point cloud\n",
    "    o3d.visualization.draw_geometries([merged_pcd], window_name=\"Visualize Merged Point Cloud\")\n",
    "\n",
    "if __name__ == \"__main__\":\n",
    "    main()"
   ]
  },
  {
   "cell_type": "code",
   "execution_count": 3,
   "metadata": {},
   "outputs": [],
   "source": [
    "import open3d as o3d\n",
    "import numpy as np\n",
    "\n",
    "def read_and_visualize(file_name, color):\n",
    "    # Read the point cloud file\n",
    "    pcd = o3d.io.read_point_cloud(file_name)\n",
    "\n",
    "    # Assign color to the point cloud\n",
    "    pcd.colors = o3d.utility.Vector3dVector(np.ones((len(pcd.points), 3)) * color)\n",
    "\n",
    "    return pcd\n",
    "\n",
    "def main():\n",
    "    # File names of the point clouds and their corresponding colors\n",
    "    files_and_colors = [\n",
    "        (\"h_0_1.ply\", [0.8, 0.8, 1.0]),  # Light blue\n",
    "        (\"h_1_1.ply\", [1.0, 0.8, 0.8]),  # Light red\n",
    "        (\"h_2_1.ply\", [0.8, 1.0, 0.8])   # Light green\n",
    "    ]\n",
    "\n",
    "    # List to hold the colored point clouds\n",
    "    point_clouds = []\n",
    "\n",
    "    # Read and assign color to each point cloud\n",
    "    for file_name, color in files_and_colors:\n",
    "        pcd = read_and_visualize(file_name, color)\n",
    "        point_clouds.append(pcd)\n",
    "\n",
    "    # Merge the point clouds\n",
    "    merged_pcd = point_clouds[0] + point_clouds[1] + point_clouds[2]\n",
    "    o3d.io.write_point_cloud(\"h_merged_0.pcd\", merged_pcd)\n",
    "    \n",
    "    # Visualize the merged point cloud with colored sub-clouds\n",
    "    o3d.visualization.draw_geometries(point_clouds, window_name=\"Visualize Merged Colored Point Clouds\")\n",
    "\n",
    "if __name__ == \"__main__\":\n",
    "    main()"
   ]
  },
  {
   "cell_type": "code",
   "execution_count": null,
   "metadata": {},
   "outputs": [],
   "source": []
  }
 ],
 "metadata": {
  "kernelspec": {
   "display_name": "Python 3",
   "language": "python",
   "name": "python3"
  },
  "language_info": {
   "codemirror_mode": {
    "name": "ipython",
    "version": 3
   },
   "file_extension": ".py",
   "mimetype": "text/x-python",
   "name": "python",
   "nbconvert_exporter": "python",
   "pygments_lexer": "ipython3",
   "version": "3.8.10"
  }
 },
 "nbformat": 4,
 "nbformat_minor": 2
}
